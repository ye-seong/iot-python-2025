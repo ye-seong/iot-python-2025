{
 "cells": [
  {
   "cell_type": "markdown",
   "metadata": {},
   "source": [
    "# 1"
   ]
  },
  {
   "cell_type": "code",
   "execution_count": 5,
   "metadata": {},
   "outputs": [
    {
     "name": "stdout",
     "output_type": "stream",
     "text": [
      "28.274328\n"
     ]
    }
   ],
   "source": [
    "p = 3.141592\n",
    "r = int(input('반지름의 값을 입력하세요. : '))\n",
    "circle = r * r * p\n",
    "print(circle)"
   ]
  },
  {
   "cell_type": "markdown",
   "metadata": {},
   "source": [
    "# 2"
   ]
  },
  {
   "cell_type": "code",
   "execution_count": 7,
   "metadata": {},
   "outputs": [
    {
     "name": "stdout",
     "output_type": "stream",
     "text": [
      "www.google.com\n",
      "None\n"
     ]
    }
   ],
   "source": [
    "def get_url(site):\n",
    "    print(f'www.{site}.com')\n",
    "url = get_url('google')\n",
    "print(url)"
   ]
  },
  {
   "cell_type": "markdown",
   "metadata": {},
   "source": [
    "# 3"
   ]
  },
  {
   "cell_type": "code",
   "execution_count": 8,
   "metadata": {},
   "outputs": [
    {
     "name": "stdout",
     "output_type": "stream",
     "text": [
      "4\n",
      "8\n",
      "12\n",
      "16\n",
      "20\n",
      "24\n",
      "28\n",
      "32\n",
      "36\n"
     ]
    }
   ],
   "source": [
    "num = int(input('구구단을 수행할 단번호를 입력하세요. : '))\n",
    "for i in range(1,10):\n",
    "    result = i * num\n",
    "    print(result)"
   ]
  },
  {
   "cell_type": "markdown",
   "metadata": {},
   "source": [
    "# 4"
   ]
  },
  {
   "cell_type": "code",
   "execution_count": null,
   "metadata": {},
   "outputs": [
    {
     "name": "stdout",
     "output_type": "stream",
     "text": [
      "[4, 3, 2]\n"
     ]
    }
   ],
   "source": [
    "num = input('수를 입력하세요. : ').split()\n",
    "arr = []\n",
    "for i in num:\n",
    "    arr.append(int(i))\n",
    "arr.reverse()\n",
    "print(arr)"
   ]
  },
  {
   "cell_type": "markdown",
   "metadata": {},
   "source": [
    "# 5"
   ]
  },
  {
   "cell_type": "code",
   "execution_count": 87,
   "metadata": {},
   "outputs": [
    {
     "name": "stdout",
     "output_type": "stream",
     "text": [
      "이름 : 주예성\n",
      "번호 : 01024777880\n",
      "회사 : 부경대학교\n"
     ]
    }
   ],
   "source": [
    "class SmartPhone:\n",
    "    phoneOwner = ''\n",
    "    phoneNumber = ''\n",
    "    company = ''\n",
    "\n",
    "    def __init__(self, owner, number,com):\n",
    "        print(f'이름 : {owner}\\n번호 : {number}\\n회사 : {com}')\n",
    "\n",
    "info = SmartPhone('주예성', '01024777880', '부경대학교')"
   ]
  }
 ],
 "metadata": {
  "kernelspec": {
   "display_name": "3.11.9",
   "language": "python",
   "name": "python3"
  },
  "language_info": {
   "codemirror_mode": {
    "name": "ipython",
    "version": 3
   },
   "file_extension": ".py",
   "mimetype": "text/x-python",
   "name": "python",
   "nbconvert_exporter": "python",
   "pygments_lexer": "ipython3",
   "version": "3.11.9"
  }
 },
 "nbformat": 4,
 "nbformat_minor": 2
}

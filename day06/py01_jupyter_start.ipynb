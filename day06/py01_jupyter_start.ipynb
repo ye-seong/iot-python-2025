{
 "cells": [
  {
   "cell_type": "markdown",
   "metadata": {},
   "source": [
    "# 주피터 노트북 시작\n",
    "\n",
    "## 주피터 노트북이란?\n",
    "\n",
    "- 과학자들의 인터렉티브한 코드 생성을 위한 프로젝트 주피터에서 부터 시작한 파이썬 코딩방식\n",
    "\n",
    "## 주피터 사용법\n",
    "\n",
    "### 마크다운 쉘\n",
    "- 마크다운 문법으로 리포팅 기능을 가진 문서를 작업하는 쉘\n",
    "\n",
    "#### 단축키\n",
    "1. Enter : 마크다운 쉘로 진입\n",
    "2. Ctrl + Ender : 마크다운 쉘 실행(렌더링) 후 빠져나가기\n",
    "\n",
    "### 코드 쉘\n",
    "- 파이썬 등 프로그램 언어가 동작하는 쉘\n",
    "\n",
    "#### 단축키\n",
    "1. Enter : 코드 쉘로 진입\n",
    "2. Ctrl + Enter : 프로그램을 실행하고 결과를 출력한뒤 쉘을 빠져나감\n",
    "3. Alt + Enter : Ctrl + Enter & b 를 합친 실행\n",
    "4. b : 현재 쉘 아래에 새로운 코드쉘 생성\n",
    "5. a : 현재 쉘 위에 새로운 코드쉘 생성\n",
    "6. l : 코드 라인수 표시"
   ]
  },
  {
   "cell_type": "code",
   "execution_count": 7,
   "metadata": {},
   "outputs": [
    {
     "name": "stdout",
     "output_type": "stream",
     "text": [
      "Hello, Jupyter!\n"
     ]
    }
   ],
   "source": [
    "# 주피터 노트북 첫 파이썬 실행\n",
    "print('Hello, Jupyter!')"
   ]
  },
  {
   "cell_type": "markdown",
   "metadata": {},
   "source": [
    "### 터미널 명령어 실행\n",
    "- 코드쉘에서 !를 붙이고 명령어 실행\n",
    "- !pip install pandas"
   ]
  },
  {
   "cell_type": "code",
   "execution_count": 11,
   "metadata": {},
   "outputs": [
    {
     "name": "stdout",
     "output_type": "stream",
     "text": [
      "Requirement already satisfied: pandas in c:\\users\\admin\\.pyenv\\pyenv-win\\versions\\3.11.9\\lib\\site-packages (2.2.3)\n",
      "Requirement already satisfied: numpy>=1.23.2 in c:\\users\\admin\\.pyenv\\pyenv-win\\versions\\3.11.9\\lib\\site-packages (from pandas) (2.2.2)\n",
      "Requirement already satisfied: python-dateutil>=2.8.2 in c:\\users\\admin\\.pyenv\\pyenv-win\\versions\\3.11.9\\lib\\site-packages (from pandas) (2.9.0.post0)\n",
      "Requirement already satisfied: pytz>=2020.1 in c:\\users\\admin\\.pyenv\\pyenv-win\\versions\\3.11.9\\lib\\site-packages (from pandas) (2025.1)\n",
      "Requirement already satisfied: tzdata>=2022.7 in c:\\users\\admin\\.pyenv\\pyenv-win\\versions\\3.11.9\\lib\\site-packages (from pandas) (2025.1)\n",
      "Requirement already satisfied: six>=1.5 in c:\\users\\admin\\.pyenv\\pyenv-win\\versions\\3.11.9\\lib\\site-packages (from python-dateutil>=2.8.2->pandas) (1.17.0)\n"
     ]
    },
    {
     "name": "stderr",
     "output_type": "stream",
     "text": [
      "\n",
      "[notice] A new release of pip is available: 24.0 -> 25.0\n",
      "[notice] To update, run: python.exe -m pip install --upgrade pip\n"
     ]
    }
   ],
   "source": [
    "!pip install pandas"
   ]
  },
  {
   "cell_type": "code",
   "execution_count": 13,
   "metadata": {},
   "outputs": [
    {
     "name": "stdout",
     "output_type": "stream",
     "text": [
      " Volume in drive C is win11\n",
      " Volume Serial Number is 4A02-284C\n",
      "\n",
      " Directory of c:\\Source\\iot-python-2025\\day06\n",
      "\n",
      "2025-02-10  오전 10:44    <DIR>          .\n",
      "2025-02-10  오전 10:43    <DIR>          ..\n",
      "2025-02-10  오전 11:06               747 py01_jupyter_start.ipynb\n",
      "               1 File(s)            747 bytes\n",
      "               2 Dir(s)  170,277,507,072 bytes free\n"
     ]
    }
   ],
   "source": [
    "!dir"
   ]
  },
  {
   "cell_type": "markdown",
   "metadata": {},
   "source": [
    "## 결론\n",
    "\n",
    "- 마크다운 쉘로 필요한 정보나 내용을 바로 확인\n",
    "- 코드 쉘로 실행결과를 바로 아래에서 확인 가능\n",
    "- 논문이나 발표자료로 많이 활용\n",
    "- .py로 실행되는 로직이 주피터노트북에서 똑같이 실행되진 않는 경우가 발생\n",
    "- 깃허브에도 주피터노트북이 그대로 출력 (장점)\n",
    "- 단, 지도라이브러리(folium)는 깃허브에 출력 안됨\n",
    "\n",
    "### 주피터 노트북 사용예\n",
    "- POC(Proof Of Concept)로 사용 후, 나중에 .py등의 솔루션 적용함\n",
    "- 빅데이터 분석 등의 프로젝트에서는 주피터 노트북을 100% 사용"
   ]
  }
 ],
 "metadata": {
  "kernelspec": {
   "display_name": "3.11.9",
   "language": "python",
   "name": "python3"
  },
  "language_info": {
   "codemirror_mode": {
    "name": "ipython",
    "version": 3
   },
   "file_extension": ".py",
   "mimetype": "text/x-python",
   "name": "python",
   "nbconvert_exporter": "python",
   "pygments_lexer": "ipython3",
   "version": "3.11.9"
  }
 },
 "nbformat": 4,
 "nbformat_minor": 2
}

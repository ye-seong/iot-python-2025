{
 "cells": [
  {
   "cell_type": "markdown",
   "metadata": {},
   "source": [
    "## tkinter\n",
    "\n",
    "- 파이썬 내장된 GUI 라이브러리"
   ]
  },
  {
   "cell_type": "code",
   "execution_count": 39,
   "metadata": {},
   "outputs": [],
   "source": [
    "from tkinter import * # tkinter 모듈의 모든 함수와 클래스를 쓸 수 있음\n",
    "import tkinter.font as fnt"
   ]
  },
  {
   "cell_type": "code",
   "execution_count": 40,
   "metadata": {},
   "outputs": [],
   "source": [
    "root = Tk() # tkinter 객체 생성\n",
    "\n",
    "root.mainloop() # 닫기아이콘을 클릭하기 전까지 무한루프"
   ]
  },
  {
   "cell_type": "markdown",
   "metadata": {},
   "source": [
    "## 라벨 컨트롤\n",
    "\n",
    "- GUI 화면에 글자(문자열) 표현하는 컨트롤"
   ]
  },
  {
   "cell_type": "code",
   "execution_count": 41,
   "metadata": {},
   "outputs": [],
   "source": [
    "root = Tk()\n",
    "\n",
    "label = Label(root, text='Hello Tkinter!')\n",
    "label.pack() # 윈도우에 패킹(필수!)\n",
    "\n",
    "root.mainloop()"
   ]
  },
  {
   "cell_type": "markdown",
   "metadata": {},
   "source": [
    "### 창크기 설정\n",
    "\n",
    "- 윈도우 실행될때 사이즈 조정"
   ]
  },
  {
   "cell_type": "code",
   "execution_count": 42,
   "metadata": {},
   "outputs": [],
   "source": [
    "root = Tk()\n",
    "root.geometry('320x230') #320x230, 640x480, 800x600, 1024x768(4:3) ... 1280x720(16:9)\n",
    "\n",
    "label = Label(root, text='Hello Tkinter!')\n",
    "label.pack() # 윈도우에 패킹(필수!)\n",
    "\n",
    "root.mainloop()"
   ]
  },
  {
   "cell_type": "markdown",
   "metadata": {},
   "source": [
    "### 위젯 분류\n",
    "\n",
    "#### 컨테이너 위젯\n",
    "- 다른 위젯들을 같이 포함할 수 있는 컨테이너 형태의 위젯\n",
    "- 관련있는 위젯(컨트롤)을 묶어줌\n",
    "- Frame, LabelFrame, Panedroot...\n",
    "\n",
    "#### 단순 위젯\n",
    "- 하나의 기능을 가지는 위젯\n",
    "- Button, Canvas, Checkbutton, Entry, Label, Message 등..."
   ]
  },
  {
   "cell_type": "markdown",
   "metadata": {},
   "source": [
    "### 버튼 위젯"
   ]
  },
  {
   "cell_type": "code",
   "execution_count": 43,
   "metadata": {},
   "outputs": [],
   "source": [
    "root = Tk()\n",
    "root.geometry('640x400')\n",
    "\n",
    "label = Label(root, text='Hello Tkinter!')\n",
    "label.pack()\n",
    "\n",
    "button = Button(root, text='버튼입니다.')\n",
    "button.pack()\n",
    "\n",
    "root.mainloop()"
   ]
  },
  {
   "cell_type": "markdown",
   "metadata": {},
   "source": [
    "### 이벤트\n",
    "\n",
    "- 사용자가 위젯을 동작시켰을 때, 발생하는 처리로직\n",
    "- 마우스클릭, 마우스무브, 스크롤, 키프레스, 드래그, ...\n",
    "- 개발자는 이러한 이벤트에 대한 처리를 구현해야 함"
   ]
  },
  {
   "cell_type": "code",
   "execution_count": 44,
   "metadata": {},
   "outputs": [],
   "source": [
    "root = Tk()\n",
    "root.geometry('600x200')\n",
    "root.title('카운트 예제') # 윈도우 창 제목변경\n",
    "\n",
    "# 이벤트\n",
    "count = 0 # 계속 증가시킬 수를 담는 변수\n",
    "\n",
    "def countUp():\n",
    "    global count # 전역변수 count를 함수내에서 사용할 거야!\n",
    "    count += 1\n",
    "    label['text'] = f'버튼 클릭: {count}' # 라벨에 표시\n",
    "\n",
    "def countInit():\n",
    "    global count\n",
    "    count = 0\n",
    "    label['text'] = f'버튼 클릭: 0' # 라벨에 표시\n",
    "\n",
    "myfont = fnt.Font(family='NanumGothic', size=20)\n",
    "\n",
    "# 숫자카운트를 표시할 라벨\n",
    "label = Label(root, text='버튼 클릭: 0', fg='blue', font=myfont)\n",
    "# side = LEFT, TOP, RIGHT, BOTTOM\n",
    "# padding = 안쪽 여백, padx(왼쪽, 오른쪽에 여백), pady(위, 아래 여백)\n",
    "label.pack(side=TOP, pady=20)\n",
    "# 버튼, command 파라미터 - 이벤트 함수를 정의\n",
    "buttonUp = Button(root, text='카운트', font=myfont, command=countUp) # countUp이라는 함수가 마우스 클릴때마다 실행\n",
    "buttonUp.pack(side=LEFT, padx=20, pady=20)\n",
    "buttonInit = Button(root, text='초기화', font=myfont, command=countInit) # countInit 함수가 실행\n",
    "buttonInit.pack(side=RIGHT, padx=20, pady=20)\n",
    "\n",
    "root.mainloop()\n"
   ]
  },
  {
   "cell_type": "markdown",
   "metadata": {},
   "source": [
    "### 여러가지 위젯 총집합"
   ]
  },
  {
   "cell_type": "markdown",
   "metadata": {},
   "source": [
    "- PyImage3 doesn't exist 문제가 발생하면\n",
    "- Pillow(PIL) 라이브러리로 사용하는 방법으로 변경\n",
    "    - pip install pillow"
   ]
  },
  {
   "cell_type": "code",
   "execution_count": 45,
   "metadata": {},
   "outputs": [
    {
     "name": "stdout",
     "output_type": "stream",
     "text": [
      "Requirement already satisfied: pillow in c:\\users\\admin\\.pyenv\\pyenv-win\\versions\\3.11.9\\lib\\site-packages (11.1.0)\n"
     ]
    },
    {
     "name": "stderr",
     "output_type": "stream",
     "text": [
      "\n",
      "[notice] A new release of pip is available: 24.0 -> 25.0\n",
      "[notice] To update, run: python.exe -m pip install --upgrade pip\n"
     ]
    }
   ],
   "source": [
    "!pip install pillow"
   ]
  },
  {
   "cell_type": "code",
   "execution_count": 46,
   "metadata": {},
   "outputs": [],
   "source": [
    "from tkinter import*\n",
    "import tkinter.font as fnt"
   ]
  },
  {
   "cell_type": "code",
   "execution_count": 47,
   "metadata": {},
   "outputs": [],
   "source": [
    "root = Tk()\n",
    "root.geometry('800x600')\n",
    "root.title('위젯 연습')\n",
    "\n",
    "# 이미지\n",
    "img = PhotoImage(file='./kitty.png')\n",
    "label = Label(root, image=img)\n",
    "label.pack()\n",
    "\n",
    "root.mainloop()"
   ]
  }
 ],
 "metadata": {
  "kernelspec": {
   "display_name": "3.11.9",
   "language": "python",
   "name": "python3"
  },
  "language_info": {
   "codemirror_mode": {
    "name": "ipython",
    "version": 3
   },
   "file_extension": ".py",
   "mimetype": "text/x-python",
   "name": "python",
   "nbconvert_exporter": "python",
   "pygments_lexer": "ipython3",
   "version": "3.11.9"
  }
 },
 "nbformat": 4,
 "nbformat_minor": 2
}
